{
 "cells": [
  {
   "cell_type": "code",
   "execution_count": 1,
   "id": "f7cd857b",
   "metadata": {},
   "outputs": [],
   "source": [
    "import numpy as np\n",
    "import pandas as pd\n",
    "import matplotlib.pyplot as plt\n",
    "\n",
    "from sklearn.datasets import load_iris, load_digits\n",
    "from sklearn.model_selection import train_test_split\n",
    "\n",
    "from sklearn.pipeline import Pipeline\n",
    "\n",
    "from sklearn.cluster import KMeans\n",
    "from sklearn.ensemble import RandomForestClassifier\n",
    "from sklearn.naive_bayes import GaussianNB\n",
    "from sklearn.linear_model import LogisticRegression\n",
    "from sklearn.svm import SVC\n",
    "from sklearn.semi_supervised import SelfTrainingClassifier, LabelPropagation, LabelSpreading\n",
    "\n",
    "from sklearn.metrics import classification_report\n",
    "from sklearn.metrics import homogeneity_completeness_v_measure,accuracy_score\n",
    "\n",
    "import warnings\n",
    "warnings.filterwarnings('ignore')"
   ]
  },
  {
   "cell_type": "code",
   "execution_count": 2,
   "id": "92afd2c1",
   "metadata": {},
   "outputs": [
    {
     "name": "stdout",
     "output_type": "stream",
     "text": [
      "total:  150 unlabel:  87 Unlabeled % :  0.58\n",
      "Unlabel target : \n",
      " [-1  0  0 -1 -1  0 -1  0  0 -1  0 -1 -1  0 -1 -1 -1  0  0  0  0  0 -1  0\n",
      " -1  0 -1  0 -1 -1 -1  0 -1 -1 -1  0  0  0  0  0 -1 -1  0 -1  0  0 -1 -1\n",
      " -1 -1 -1 -1  1 -1 -1 -1  1 -1 -1 -1 -1 -1  1 -1 -1 -1  1 -1  1 -1  1 -1\n",
      "  1  1  1 -1 -1 -1 -1 -1 -1 -1 -1  1 -1 -1 -1 -1 -1  1 -1  1 -1  1 -1 -1\n",
      " -1 -1  1 -1  2 -1  2  2 -1 -1 -1 -1 -1  2 -1  2  2 -1  2 -1  2 -1  2  2\n",
      "  2 -1  2  2 -1  2 -1 -1  2 -1  2 -1 -1 -1 -1 -1 -1  2  2 -1  2 -1 -1  2\n",
      "  2  2 -1  2  2  2]\n",
      "y_pred:  [0 0 0 0 0 0 0 0 0 0 0 0 0 0 0 0 0 0 0 0 0 0 0 0 0 0 0 0 0 0 0 0 0 0 0 0 0\n",
      " 0 0 0 0 0 0 0 0 0 0 0 0 0 1 1 1 1 1 1 1 1 1 1 1 1 1 1 1 1 1 1 1 1 1 1 1 1\n",
      " 1 1 1 2 1 1 1 1 1 2 1 1 1 1 1 1 1 1 1 1 1 1 1 1 1 1 2 2 2 2 2 2 1 2 2 2 2\n",
      " 2 2 2 2 2 2 2 2 2 2 2 2 2 2 2 2 2 2 2 2 2 2 2 2 2 2 2 1 2 2 2 2 2 2 2 2 2\n",
      " 2 2]\n",
      "[0 0 0 0 0 0 0 0 0 0 0 0 0 0 0 0 0 0 0 0 0 0 0 0 0 0 0 0 0 0 0 0 0 0 0 0 0\n",
      " 0 0 0 0 0 0 0 0 0 0 0 0 0 1 1 1 1 1 1 1 1 1 1 1 1 1 1 1 1 1 1 1 1 1 1 1 1\n",
      " 1 1 1 1 1 1 1 1 1 1 1 1 1 1 1 1 1 1 1 1 1 1 1 1 1 1 2 2 2 2 2 2 2 2 2 2 2\n",
      " 2 2 2 2 2 2 2 2 2 2 2 2 2 2 2 2 2 2 2 2 2 2 2 2 2 2 2 2 2 2 2 2 2 2 2 2 2\n",
      " 2 2]\n",
      "accuracy_score:  0.9733333333333334\n"
     ]
    }
   ],
   "source": [
    "# SelfTraningClassifier()\n",
    "\n",
    "rng = np.random.RandomState(0)\n",
    "\n",
    "data= load_iris()\n",
    "X= data.data\n",
    "y_orginal = data.target.copy()\n",
    "y = data.target\n",
    "\n",
    "\n",
    "# create unlabel data\n",
    "\n",
    "Un_label = rng.rand(len(y)) < 0.6\n",
    "print('total: ', len(y), 'unlabel: ', len(Un_label[Un_label==True]), 'Unlabeled % : ', len(Un_label[Un_label==True])/ len(y))\n",
    "\n",
    "y[Un_label] = -1\n",
    "print('Unlabel target : \\n', y)\n",
    "\n",
    "# Semi supervised label\n",
    "model = SVC(probability = True, gamma='auto')\n",
    "STC = SelfTrainingClassifier(model)\n",
    "STC.fit(X, data.target)\n",
    "\n",
    "y_pred= STC.predict(X)\n",
    "print('y_pred: ', y_pred)\n",
    "print(y_orginal)\n",
    "accuracy = accuracy_score(y_orginal, y_pred)\n",
    "print('accuracy_score: ', accuracy)"
   ]
  },
  {
   "cell_type": "code",
   "execution_count": 3,
   "id": "1e6fba19",
   "metadata": {},
   "outputs": [
    {
     "name": "stdout",
     "output_type": "stream",
     "text": [
      "total:  150 unlabel:  87 Unlabeled % :  0.58\n",
      "Unlabel target : \n",
      " [-1  0  0 -1 -1  0 -1  0  0 -1  0 -1 -1  0 -1 -1 -1  0  0  0  0  0 -1  0\n",
      " -1  0 -1  0 -1 -1 -1  0 -1 -1 -1  0  0  0  0  0 -1 -1  0 -1  0  0 -1 -1\n",
      " -1 -1 -1 -1  1 -1 -1 -1  1 -1 -1 -1 -1 -1  1 -1 -1 -1  1 -1  1 -1  1 -1\n",
      "  1  1  1 -1 -1 -1 -1 -1 -1 -1 -1  1 -1 -1 -1 -1 -1  1 -1  1 -1  1 -1 -1\n",
      " -1 -1  1 -1  2 -1  2  2 -1 -1 -1 -1 -1  2 -1  2  2 -1  2 -1  2 -1  2  2\n",
      "  2 -1  2  2 -1  2 -1 -1  2 -1  2 -1 -1 -1 -1 -1 -1  2  2 -1  2 -1 -1  2\n",
      "  2  2 -1  2  2  2]\n",
      "y_pred:  [0 0 0 0 0 0 0 0 0 0 0 0 0 0 0 0 0 0 0 0 0 0 0 0 0 0 0 0 0 0 0 0 0 0 0 0 0\n",
      " 0 0 0 0 0 0 0 0 0 0 0 0 0 1 1 1 1 1 1 1 1 1 1 1 1 1 1 1 1 1 1 1 1 1 1 1 1\n",
      " 1 1 1 1 1 1 1 1 1 1 1 1 1 1 1 1 1 1 1 1 1 1 1 1 1 1 2 2 2 2 2 2 1 2 2 2 2\n",
      " 2 2 2 2 2 2 2 2 2 2 2 2 2 2 2 2 2 2 2 2 2 2 1 2 2 2 2 2 2 2 2 2 2 2 2 2 2\n",
      " 2 2]\n",
      "accuracy_score:  0.9866666666666667\n"
     ]
    }
   ],
   "source": [
    "# semi_supervised.LabelPropagation()\n",
    "\n",
    "rng = np.random.RandomState(0)\n",
    "\n",
    "#Data\n",
    "data= load_iris()\n",
    "X= data.data\n",
    "y_orginal = data.target.copy()\n",
    "y = data.target\n",
    "\n",
    "\n",
    "# create unlabel data\n",
    "\n",
    "Un_label = rng.rand(len(y)) < 0.6\n",
    "print('total: ', len(y), 'unlabel: ', len(Un_label[Un_label==True]), 'Unlabeled % : ', len(Un_label[Un_label==True])/ len(y))\n",
    "\n",
    "y[Un_label] = -1\n",
    "print('Unlabel target : \\n', y)\n",
    "\n",
    "# Semi supervised label\n",
    "lbp = LabelPropagation()\n",
    "lbp.fit(X, y)\n",
    "\n",
    "y_pred= lbp.predict(X)\n",
    "print('y_pred: ', y_pred)\n",
    "\n",
    "accuracy = accuracy_score(y_orginal, y_pred)\n",
    "print('accuracy_score: ', accuracy)"
   ]
  },
  {
   "cell_type": "code",
   "execution_count": 4,
   "id": "d8315196",
   "metadata": {},
   "outputs": [
    {
     "name": "stdout",
     "output_type": "stream",
     "text": [
      "total:  150 unlabel:  87 Unlabeled % :  0.58\n",
      "Unlabel target : \n",
      " [-1  0  0 -1 -1  0 -1  0  0 -1  0 -1 -1  0 -1 -1 -1  0  0  0  0  0 -1  0\n",
      " -1  0 -1  0 -1 -1 -1  0 -1 -1 -1  0  0  0  0  0 -1 -1  0 -1  0  0 -1 -1\n",
      " -1 -1 -1 -1  1 -1 -1 -1  1 -1 -1 -1 -1 -1  1 -1 -1 -1  1 -1  1 -1  1 -1\n",
      "  1  1  1 -1 -1 -1 -1 -1 -1 -1 -1  1 -1 -1 -1 -1 -1  1 -1  1 -1  1 -1 -1\n",
      " -1 -1  1 -1  2 -1  2  2 -1 -1 -1 -1 -1  2 -1  2  2 -1  2 -1  2 -1  2  2\n",
      "  2 -1  2  2 -1  2 -1 -1  2 -1  2 -1 -1 -1 -1 -1 -1  2  2 -1  2 -1 -1  2\n",
      "  2  2 -1  2  2  2]\n",
      "y_pred:  [0 0 0 0 0 0 0 0 0 0 0 0 0 0 0 0 0 0 0 0 0 0 0 0 0 0 0 0 0 0 0 0 0 0 0 0 0\n",
      " 0 0 0 0 0 0 0 0 0 0 0 0 0 1 1 1 1 1 1 1 1 1 1 1 1 1 1 1 1 1 1 1 1 1 1 1 1\n",
      " 1 1 1 1 1 1 1 1 1 1 1 1 1 1 1 1 1 1 1 1 1 1 1 1 1 1 2 2 2 2 2 2 1 2 2 2 2\n",
      " 2 2 2 2 2 2 2 2 2 2 2 2 2 2 2 2 2 2 2 2 2 2 1 2 2 2 2 2 2 2 2 2 2 2 2 2 2\n",
      " 2 2]\n",
      "accuracy_score:  0.9866666666666667\n"
     ]
    }
   ],
   "source": [
    "# LabelSpreading()\n",
    "rng = np.random.RandomState(0)\n",
    "\n",
    "data= load_iris()\n",
    "X= data.data\n",
    "y_orginal = data.target.copy()\n",
    "y = data.target\n",
    "\n",
    "\n",
    "# create unlabel data\n",
    "\n",
    "Un_label = rng.rand(len(y)) < 0.6\n",
    "print('total: ', len(y), 'unlabel: ', len(Un_label[Un_label==True]), 'Unlabeled % : ', len(Un_label[Un_label==True])/ len(y))\n",
    "\n",
    "y[Un_label] = -1\n",
    "print('Unlabel target : \\n', y)\n",
    "\n",
    "# Semi supervised label\n",
    "lbs = LabelSpreading()\n",
    "lbs.fit(X, data.target)\n",
    "\n",
    "y_pred= lbs.predict(X)\n",
    "print('y_pred: ', y_pred)\n",
    "\n",
    "accuracy = accuracy_score(y_orginal, y_pred)\n",
    "print('accuracy_score: ', accuracy)"
   ]
  },
  {
   "cell_type": "code",
   "execution_count": null,
   "id": "14b9cd3b",
   "metadata": {},
   "outputs": [],
   "source": []
  }
 ],
 "metadata": {
  "kernelspec": {
   "display_name": "Python 3",
   "language": "python",
   "name": "python3"
  },
  "language_info": {
   "codemirror_mode": {
    "name": "ipython",
    "version": 3
   },
   "file_extension": ".py",
   "mimetype": "text/x-python",
   "name": "python",
   "nbconvert_exporter": "python",
   "pygments_lexer": "ipython3",
   "version": "3.9.7"
  }
 },
 "nbformat": 4,
 "nbformat_minor": 5
}
